{
 "cells": [
  {
   "cell_type": "code",
   "execution_count": 13,
   "id": "04d1061c",
   "metadata": {},
   "outputs": [],
   "source": [
    "import numpy as np\n",
    "import random\n",
    "import tensorflow as tf"
   ]
  },
  {
   "cell_type": "code",
   "execution_count": 15,
   "id": "d9ffba3d",
   "metadata": {},
   "outputs": [],
   "source": [
    "random.seed(777)\n",
    "learning_rate = 0.001\n",
    "batch_size = 100\n",
    "training_epochs = 15\n",
    "nb_classes = 10"
   ]
  },
  {
   "cell_type": "code",
   "execution_count": 3,
   "id": "baaeb3d9",
   "metadata": {},
   "outputs": [],
   "source": [
    "mnist = tf.keras.datasets.mnist"
   ]
  },
  {
   "cell_type": "code",
   "execution_count": 4,
   "id": "e738fedc",
   "metadata": {},
   "outputs": [
    {
     "name": "stdout",
     "output_type": "stream",
     "text": [
      "Downloading data from https://storage.googleapis.com/tensorflow/tf-keras-datasets/mnist.npz\n",
      "11493376/11490434 [==============================] - 1s 0us/step\n"
     ]
    }
   ],
   "source": [
    "(x_train, y_train), (x_test, y_test) = mnist.load_data()\n",
    "# normalizing data\n",
    "x_train, x_test = x_train / 255.0, x_test / 255.0"
   ]
  },
  {
   "cell_type": "code",
   "execution_count": 5,
   "id": "a5d8fd45",
   "metadata": {},
   "outputs": [
    {
     "name": "stdout",
     "output_type": "stream",
     "text": [
      "(60000, 28, 28)\n"
     ]
    }
   ],
   "source": [
    "# change data shape\n",
    "print(x_train.shape)  # (60000, 28, 28)\n",
    "x_train = x_train.reshape(x_train.shape[0], x_train.shape[1] * x_train.shape[2])\n",
    "x_test = x_test.reshape(x_test.shape[0], x_test.shape[1] * x_test.shape[2])"
   ]
  },
  {
   "cell_type": "code",
   "execution_count": 6,
   "id": "46a97327",
   "metadata": {},
   "outputs": [],
   "source": [
    "# change result to one-hot encoding\n",
    "# in tf1, one_hot= True in read_data_sets(\"MNIST_data/\", one_hot=True)\n",
    "# took care of it, but here we need to manually convert them\n",
    "y_train = tf.keras.utils.to_categorical(y_train, 10)\n",
    "y_test = tf.keras.utils.to_categorical(y_test, 10)"
   ]
  },
  {
   "cell_type": "code",
   "execution_count": 24,
   "id": "0f4a28e1",
   "metadata": {},
   "outputs": [
    {
     "name": "stdout",
     "output_type": "stream",
     "text": [
      "Model: \"sequential_4\"\n",
      "_________________________________________________________________\n",
      "Layer (type)                 Output Shape              Param #   \n",
      "=================================================================\n",
      "dense_10 (Dense)             (None, 512)               401920    \n",
      "_________________________________________________________________\n",
      "dense_11 (Dense)             (None, 512)               262656    \n",
      "_________________________________________________________________\n",
      "dense_12 (Dense)             (None, 512)               262656    \n",
      "_________________________________________________________________\n",
      "dense_13 (Dense)             (None, 512)               262656    \n",
      "_________________________________________________________________\n",
      "dense_14 (Dense)             (None, 10)                5130      \n",
      "=================================================================\n",
      "Total params: 1,195,018\n",
      "Trainable params: 1,195,018\n",
      "Non-trainable params: 0\n",
      "_________________________________________________________________\n"
     ]
    }
   ],
   "source": [
    "# # Consider an array of 5 labels out of a set of 3 classes {0, 1, 2}:\n",
    "# array([0, 2, 1, 2, 0])\n",
    "# `to_categorical` converts this into a matrix with as many columns as there are classes. The number of rows\n",
    "#  stays the same. to_categorical(labels)\n",
    "# array([[ 1.,  0.,  0.],\n",
    "#        [ 0.,  0.,  1.],\n",
    "#        [ 0.,  1.,  0.],\n",
    "#        [ 0.,  0.,  1.],\n",
    "#        [ 1.,  0.,  0.]], dtype=float32)\n",
    "\n",
    "tf.model = tf.keras.Sequential()\n",
    "tf.model.add(tf.keras.layers.Dense(units=512, input_dim=784, kernel_initializer='glorot_normal',activation='relu'))\n",
    "tf.model.add(tf.keras.layers.Dense(units=512, kernel_initializer='glorot_normal',activation='relu'))\n",
    "tf.model.add(tf.keras.layers.Dense(units=512, kernel_initializer='glorot_normal',activation='relu'))\n",
    "tf.model.add(tf.keras.layers.Dense(units=512, kernel_initializer='glorot_normal',activation='relu'))\n",
    "tf.model.add(tf.keras.layers.Dense(units=nb_classes, kernel_initializer='glorot_normal', activation='softmax'))\n",
    "tf.model.compile(loss='categorical_crossentropy', optimizer=tf.optimizers.Adam(learning_rate), metrics=['accuracy'])\n",
    "tf.model.summary()"
   ]
  },
  {
   "cell_type": "code",
   "execution_count": 25,
   "id": "63bfe86d",
   "metadata": {},
   "outputs": [
    {
     "name": "stdout",
     "output_type": "stream",
     "text": [
      "Epoch 1/15\n",
      "600/600 [==============================] - 70s 117ms/step - loss: 0.2101 - accuracy: 0.9364\n",
      "Epoch 2/15\n",
      "600/600 [==============================] - 68s 113ms/step - loss: 0.0895 - accuracy: 0.9725\n",
      "Epoch 3/15\n",
      "600/600 [==============================] - 68s 113ms/step - loss: 0.0652 - accuracy: 0.9799\n",
      "Epoch 4/15\n",
      "600/600 [==============================] - 69s 115ms/step - loss: 0.0491 - accuracy: 0.9849\n",
      "Epoch 5/15\n",
      "600/600 [==============================] - 68s 113ms/step - loss: 0.0397 - accuracy: 0.9874\n",
      "Epoch 6/15\n",
      "600/600 [==============================] - 74s 124ms/step - loss: 0.0365 - accuracy: 0.9884\n",
      "Epoch 7/15\n",
      "600/600 [==============================] - 74s 123ms/step - loss: 0.0285 - accuracy: 0.9911\n",
      "Epoch 8/15\n",
      "600/600 [==============================] - 68s 113ms/step - loss: 0.0245 - accuracy: 0.9925\n",
      "Epoch 9/15\n",
      "600/600 [==============================] - 68s 114ms/step - loss: 0.0230 - accuracy: 0.9934\n",
      "Epoch 10/15\n",
      "600/600 [==============================] - 79s 132ms/step - loss: 0.0224 - accuracy: 0.9933\n",
      "Epoch 11/15\n",
      "600/600 [==============================] - 75s 125ms/step - loss: 0.0207 - accuracy: 0.9937\n",
      "Epoch 12/15\n",
      "600/600 [==============================] - 75s 125ms/step - loss: 0.0178 - accuracy: 0.9944\n",
      "Epoch 13/15\n",
      "600/600 [==============================] - 75s 125ms/step - loss: 0.0170 - accuracy: 0.9946\n",
      "Epoch 14/15\n",
      "600/600 [==============================] - 72s 120ms/step - loss: 0.0152 - accuracy: 0.9955\n",
      "Epoch 15/15\n",
      "600/600 [==============================] - 70s 117ms/step - loss: 0.0136 - accuracy: 0.9961\n"
     ]
    }
   ],
   "source": [
    "history = tf.model.fit(x_train, y_train, batch_size=batch_size, epochs=training_epochs)"
   ]
  },
  {
   "cell_type": "code",
   "execution_count": 26,
   "id": "1f9a4605",
   "metadata": {},
   "outputs": [
    {
     "name": "stdout",
     "output_type": "stream",
     "text": [
      "index:  9450 actual y:  8 predicted y:  8\n",
      "index:  5542 actual y:  3 predicted y:  3\n",
      "index:  4704 actual y:  6 predicted y:  6\n",
      "index:  9575 actual y:  8 predicted y:  8\n",
      "index:  4380 actual y:  8 predicted y:  8\n",
      "index:  1755 actual y:  5 predicted y:  5\n",
      "index:  3435 actual y:  2 predicted y:  2\n",
      "index:  5115 actual y:  6 predicted y:  6\n",
      "index:  8210 actual y:  9 predicted y:  9\n",
      "index:  2057 actual y:  6 predicted y:  6\n"
     ]
    }
   ],
   "source": [
    "# predict 10 random hand-writing data\n",
    "y_predicted = tf.model.predict(x_test)\n",
    "for x in range(0, 10):\n",
    "    random_index = random.randint(0, x_test.shape[0]-1) ##인자로 들어온 a, b 사이의 랜덤한 정수(int)를 반환\n",
    "    print(\"index: \", random_index,\n",
    "          \"actual y: \", np.argmax(y_test[random_index]),\n",
    "          \"predicted y: \", np.argmax(y_predicted[random_index]))"
   ]
  },
  {
   "cell_type": "code",
   "execution_count": 27,
   "id": "d5633b6f",
   "metadata": {},
   "outputs": [
    {
     "name": "stdout",
     "output_type": "stream",
     "text": [
      "313/313 [==============================] - 6s 19ms/step - loss: 0.0867 - accuracy: 0.9828\n",
      "loss:  0.08674134314060211\n",
      "accuracy 0.9828000068664551\n"
     ]
    }
   ],
   "source": [
    "# evaluate test set\n",
    "evaluation = tf.model.evaluate(x_test, y_test)\n",
    "print('loss: ', evaluation[0])\n",
    "print('accuracy', evaluation[1])"
   ]
  }
 ],
 "metadata": {
  "kernelspec": {
   "display_name": "Python 3",
   "language": "python",
   "name": "python3"
  },
  "language_info": {
   "codemirror_mode": {
    "name": "ipython",
    "version": 3
   },
   "file_extension": ".py",
   "mimetype": "text/x-python",
   "name": "python",
   "nbconvert_exporter": "python",
   "pygments_lexer": "ipython3",
   "version": "3.8.8"
  }
 },
 "nbformat": 4,
 "nbformat_minor": 5
}
