{
 "cells": [
  {
   "cell_type": "code",
   "execution_count": 13,
   "id": "56930a74",
   "metadata": {},
   "outputs": [],
   "source": [
    "import numpy as np\n",
    "import random\n",
    "import tensorflow as tf"
   ]
  },
  {
   "cell_type": "code",
   "execution_count": 15,
   "id": "2abf8bda",
   "metadata": {},
   "outputs": [],
   "source": [
    "random.seed(777)\n",
    "learning_rate = 0.001\n",
    "batch_size = 100\n",
    "training_epochs = 15\n",
    "nb_classes = 10"
   ]
  },
  {
   "cell_type": "code",
   "execution_count": 3,
   "id": "fb41bb9a",
   "metadata": {},
   "outputs": [],
   "source": [
    "mnist = tf.keras.datasets.mnist"
   ]
  },
  {
   "cell_type": "code",
   "execution_count": 4,
   "id": "510236fc",
   "metadata": {},
   "outputs": [
    {
     "name": "stdout",
     "output_type": "stream",
     "text": [
      "Downloading data from https://storage.googleapis.com/tensorflow/tf-keras-datasets/mnist.npz\n",
      "11493376/11490434 [==============================] - 1s 0us/step\n"
     ]
    }
   ],
   "source": [
    "(x_train, y_train), (x_test, y_test) = mnist.load_data()\n",
    "# normalizing data\n",
    "x_train, x_test = x_train / 255.0, x_test / 255.0"
   ]
  },
  {
   "cell_type": "code",
   "execution_count": 5,
   "id": "f0269807",
   "metadata": {},
   "outputs": [
    {
     "name": "stdout",
     "output_type": "stream",
     "text": [
      "(60000, 28, 28)\n"
     ]
    }
   ],
   "source": [
    "# change data shape\n",
    "print(x_train.shape)  # (60000, 28, 28)\n",
    "x_train = x_train.reshape(x_train.shape[0], x_train.shape[1] * x_train.shape[2])\n",
    "x_test = x_test.reshape(x_test.shape[0], x_test.shape[1] * x_test.shape[2])"
   ]
  },
  {
   "cell_type": "code",
   "execution_count": 6,
   "id": "3454976a",
   "metadata": {},
   "outputs": [],
   "source": [
    "# change result to one-hot encoding\n",
    "# in tf1, one_hot= True in read_data_sets(\"MNIST_data/\", one_hot=True)\n",
    "# took care of it, but here we need to manually convert them\n",
    "y_train = tf.keras.utils.to_categorical(y_train, 10)\n",
    "y_test = tf.keras.utils.to_categorical(y_test, 10)"
   ]
  },
  {
   "cell_type": "code",
   "execution_count": 16,
   "id": "4516a86e",
   "metadata": {},
   "outputs": [
    {
     "name": "stdout",
     "output_type": "stream",
     "text": [
      "Model: \"sequential_2\"\n",
      "_________________________________________________________________\n",
      "Layer (type)                 Output Shape              Param #   \n",
      "=================================================================\n",
      "dense_4 (Dense)              (None, 256)               200960    \n",
      "_________________________________________________________________\n",
      "dense_5 (Dense)              (None, 256)               65792     \n",
      "_________________________________________________________________\n",
      "dense_6 (Dense)              (None, 10)                2570      \n",
      "=================================================================\n",
      "Total params: 269,322\n",
      "Trainable params: 269,322\n",
      "Non-trainable params: 0\n",
      "_________________________________________________________________\n"
     ]
    }
   ],
   "source": [
    "# # Consider an array of 5 labels out of a set of 3 classes {0, 1, 2}:\n",
    "# array([0, 2, 1, 2, 0])\n",
    "# `to_categorical` converts this into a matrix with as many columns as there are classes. The number of rows\n",
    "#  stays the same. to_categorical(labels)\n",
    "# array([[ 1.,  0.,  0.],\n",
    "#        [ 0.,  0.,  1.],\n",
    "#        [ 0.,  1.,  0.],\n",
    "#        [ 0.,  0.,  1.],\n",
    "#        [ 1.,  0.,  0.]], dtype=float32)\n",
    "\n",
    "tf.model = tf.keras.Sequential()\n",
    "tf.model.add(tf.keras.layers.Dense(units=256, input_dim=784, activation='relu'))\n",
    "tf.model.add(tf.keras.layers.Dense(units=256, activation='relu'))\n",
    "tf.model.add(tf.keras.layers.Dense(units=nb_classes, input_dim=256, activation='softmax'))\n",
    "tf.model.compile(loss='categorical_crossentropy', optimizer=tf.optimizers.Adam(learning_rate), metrics=['accuracy'])\n",
    "tf.model.summary()"
   ]
  },
  {
   "cell_type": "code",
   "execution_count": 17,
   "id": "c9908e98",
   "metadata": {},
   "outputs": [
    {
     "name": "stdout",
     "output_type": "stream",
     "text": [
      "Epoch 1/15\n",
      "600/600 [==============================] - 16s 26ms/step - loss: 0.2414 - accuracy: 0.9292\n",
      "Epoch 2/15\n",
      "600/600 [==============================] - 14s 24ms/step - loss: 0.0918 - accuracy: 0.9715\n",
      "Epoch 3/15\n",
      "600/600 [==============================] - 16s 26ms/step - loss: 0.0595 - accuracy: 0.9815\n",
      "Epoch 4/15\n",
      "600/600 [==============================] - 17s 28ms/step - loss: 0.0434 - accuracy: 0.9863\n",
      "Epoch 5/15\n",
      "600/600 [==============================] - 16s 27ms/step - loss: 0.0321 - accuracy: 0.9895\n",
      "Epoch 6/15\n",
      "600/600 [==============================] - 14s 24ms/step - loss: 0.0245 - accuracy: 0.9925\n",
      "Epoch 7/15\n",
      "600/600 [==============================] - 14s 24ms/step - loss: 0.0217 - accuracy: 0.9928\n",
      "Epoch 8/15\n",
      "600/600 [==============================] - 14s 24ms/step - loss: 0.0200 - accuracy: 0.9934\n",
      "Epoch 9/15\n",
      "600/600 [==============================] - 15s 24ms/step - loss: 0.0145 - accuracy: 0.9951\n",
      "Epoch 10/15\n",
      "600/600 [==============================] - 16s 27ms/step - loss: 0.0135 - accuracy: 0.9954\n",
      "Epoch 11/15\n",
      "600/600 [==============================] - 18s 30ms/step - loss: 0.0145 - accuracy: 0.9952\n",
      "Epoch 12/15\n",
      "600/600 [==============================] - 15s 25ms/step - loss: 0.0126 - accuracy: 0.9955\n",
      "Epoch 13/15\n",
      "600/600 [==============================] - 15s 26ms/step - loss: 0.0082 - accuracy: 0.9972\n",
      "Epoch 14/15\n",
      "600/600 [==============================] - 15s 25ms/step - loss: 0.0106 - accuracy: 0.9964\n",
      "Epoch 15/15\n",
      "600/600 [==============================] - 14s 23ms/step - loss: 0.0116 - accuracy: 0.9960\n"
     ]
    }
   ],
   "source": [
    "history = tf.model.fit(x_train, y_train, batch_size=batch_size, epochs=training_epochs)"
   ]
  },
  {
   "cell_type": "code",
   "execution_count": 18,
   "id": "b74213aa",
   "metadata": {},
   "outputs": [
    {
     "name": "stdout",
     "output_type": "stream",
     "text": [
      "index:  3757 actual y:  8 predicted y:  8\n",
      "index:  7304 actual y:  5 predicted y:  5\n",
      "index:  7300 actual y:  7 predicted y:  7\n",
      "index:  6039 actual y:  9 predicted y:  9\n",
      "index:  9429 actual y:  3 predicted y:  3\n",
      "index:  4420 actual y:  5 predicted y:  5\n",
      "index:  5507 actual y:  2 predicted y:  2\n",
      "index:  8809 actual y:  1 predicted y:  1\n",
      "index:  654 actual y:  5 predicted y:  5\n",
      "index:  7302 actual y:  8 predicted y:  8\n"
     ]
    }
   ],
   "source": [
    "# predict 10 random hand-writing data\n",
    "y_predicted = tf.model.predict(x_test)\n",
    "for x in range(0, 10):\n",
    "    random_index = random.randint(0, x_test.shape[0]-1) ##인자로 들어온 a, b 사이의 랜덤한 정수(int)를 반환\n",
    "    print(\"index: \", random_index,\n",
    "          \"actual y: \", np.argmax(y_test[random_index]),\n",
    "          \"predicted y: \", np.argmax(y_predicted[random_index]))"
   ]
  },
  {
   "cell_type": "code",
   "execution_count": 11,
   "id": "dc518c31",
   "metadata": {},
   "outputs": [
    {
     "name": "stdout",
     "output_type": "stream",
     "text": [
      "1875/1875 [==============================] - 3s 2ms/step - loss: 0.2451 - accuracy: 0.9325\n",
      "Accuracy:  0.9325000047683716\n"
     ]
    }
   ],
   "source": [
    "# evaluate test set\n",
    "evaluation = tf.model.evaluate(x_test, y_test)\n",
    "print('loss: ', evaluation[0])\n",
    "print('accuracy', evaluation[1])"
   ]
  }
 ],
 "metadata": {
  "kernelspec": {
   "display_name": "Python 3",
   "language": "python",
   "name": "python3"
  },
  "language_info": {
   "codemirror_mode": {
    "name": "ipython",
    "version": 3
   },
   "file_extension": ".py",
   "mimetype": "text/x-python",
   "name": "python",
   "nbconvert_exporter": "python",
   "pygments_lexer": "ipython3",
   "version": "3.8.8"
  }
 },
 "nbformat": 4,
 "nbformat_minor": 5
}
