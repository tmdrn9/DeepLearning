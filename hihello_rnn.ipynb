{
 "cells": [
  {
   "cell_type": "code",
   "execution_count": 1,
   "id": "2a6bbdd5",
   "metadata": {},
   "outputs": [],
   "source": [
    "import numpy as np\n",
    "import tensorflow as tf"
   ]
  },
  {
   "cell_type": "code",
   "execution_count": 3,
   "id": "28c57508",
   "metadata": {},
   "outputs": [
    {
     "data": {
      "text/plain": [
       "'1.19.5'"
      ]
     },
     "execution_count": 3,
     "metadata": {},
     "output_type": "execute_result"
    }
   ],
   "source": [
    "np.version.version"
   ]
  },
  {
   "cell_type": "code",
   "execution_count": 4,
   "id": "3d1dc268",
   "metadata": {},
   "outputs": [],
   "source": [
    "idx2char = ['h', 'i', 'e', 'l', 'o']\n",
    "# Teach hello: hihell -> ihello\n",
    "x_data = [[0, 1, 0, 2, 3, 3]]  # hihell\n",
    "y_data = [[1, 0, 2, 3, 3, 4]]  # ihello"
   ]
  },
  {
   "cell_type": "code",
   "execution_count": 5,
   "id": "6c3bddfb",
   "metadata": {},
   "outputs": [
    {
     "name": "stdout",
     "output_type": "stream",
     "text": [
      "(1, 6, 5)\n",
      "(1, 6, 5)\n"
     ]
    }
   ],
   "source": [
    "num_classes = 5\n",
    "input_dim = 5  # one-hot size, same as hidden_size to directly predict one-hot\n",
    "sequence_length = 6  # |ihello| == 6\n",
    "learning_rate = 0.1\n",
    "\n",
    "x_one_hot = np.array([[[1, 0, 0, 0, 0],    # h 0\n",
    "                       [0, 1, 0, 0, 0],    # i 1\n",
    "                       [1, 0, 0, 0, 0],    # h 0\n",
    "                       [0, 0, 1, 0, 0],    # e 2\n",
    "                       [0, 0, 0, 1, 0],    # l 3\n",
    "                       [0, 0, 0, 1, 0]]],  # l 3\n",
    "                     dtype=np.float32)\n",
    "\n",
    "y_one_hot = tf.keras.utils.to_categorical(y_data, num_classes=num_classes)\n",
    "print(x_one_hot.shape)\n",
    "print(y_one_hot.shape)\n"
   ]
  },
  {
   "cell_type": "code",
   "execution_count": 6,
   "id": "f9a9edaa",
   "metadata": {},
   "outputs": [
    {
     "name": "stdout",
     "output_type": "stream",
     "text": [
      "Epoch 1/50\n",
      "1/1 [==============================] - 0s 5ms/step - loss: 1.6466 - accuracy: 0.1667\n",
      "Epoch 2/50\n",
      "1/1 [==============================] - 0s 999us/step - loss: 1.5450 - accuracy: 0.3333\n",
      "Epoch 3/50\n",
      "1/1 [==============================] - 0s 3ms/step - loss: 1.4800 - accuracy: 0.3333\n",
      "Epoch 4/50\n",
      "1/1 [==============================] - 0s 2ms/step - loss: 1.4309 - accuracy: 0.3333\n",
      "Epoch 5/50\n",
      "1/1 [==============================] - 0s 3ms/step - loss: 1.3729 - accuracy: 0.3333\n",
      "Epoch 6/50\n",
      "1/1 [==============================] - 0s 4ms/step - loss: 1.2956 - accuracy: 0.3333\n",
      "Epoch 7/50\n",
      "1/1 [==============================] - 0s 4ms/step - loss: 1.2069 - accuracy: 0.3333\n",
      "Epoch 8/50\n",
      "1/1 [==============================] - 0s 3ms/step - loss: 1.1084 - accuracy: 0.3333\n",
      "Epoch 9/50\n",
      "1/1 [==============================] - 0s 5ms/step - loss: 0.9988 - accuracy: 0.6667\n",
      "Epoch 10/50\n",
      "1/1 [==============================] - 0s 3ms/step - loss: 0.8813 - accuracy: 0.8333\n",
      "Epoch 11/50\n",
      "1/1 [==============================] - 0s 7ms/step - loss: 0.7612 - accuracy: 0.8333\n",
      "Epoch 12/50\n",
      "1/1 [==============================] - 0s 4ms/step - loss: 0.6467 - accuracy: 0.8333\n",
      "Epoch 13/50\n",
      "1/1 [==============================] - 0s 2ms/step - loss: 0.5447 - accuracy: 0.8333\n",
      "Epoch 14/50\n",
      "1/1 [==============================] - 0s 5ms/step - loss: 0.4583 - accuracy: 0.8333\n",
      "Epoch 15/50\n",
      "1/1 [==============================] - 0s 3ms/step - loss: 0.3859 - accuracy: 0.8333\n",
      "Epoch 16/50\n",
      "1/1 [==============================] - 0s 2ms/step - loss: 0.3265 - accuracy: 0.8333\n",
      "Epoch 17/50\n",
      "1/1 [==============================] - 0s 2ms/step - loss: 0.2773 - accuracy: 1.0000\n",
      "Epoch 18/50\n",
      "1/1 [==============================] - 0s 3ms/step - loss: 0.2326 - accuracy: 1.0000\n",
      "Epoch 19/50\n",
      "1/1 [==============================] - 0s 2ms/step - loss: 0.1885 - accuracy: 1.0000\n",
      "Epoch 20/50\n",
      "1/1 [==============================] - 0s 2ms/step - loss: 0.1474 - accuracy: 1.0000\n",
      "Epoch 21/50\n",
      "1/1 [==============================] - 0s 2ms/step - loss: 0.1134 - accuracy: 1.0000\n",
      "Epoch 22/50\n",
      "1/1 [==============================] - 0s 3ms/step - loss: 0.0862 - accuracy: 1.0000\n",
      "Epoch 23/50\n",
      "1/1 [==============================] - 0s 2ms/step - loss: 0.0642 - accuracy: 1.0000\n",
      "Epoch 24/50\n",
      "1/1 [==============================] - 0s 3ms/step - loss: 0.0470 - accuracy: 1.0000\n",
      "Epoch 25/50\n",
      "1/1 [==============================] - 0s 3ms/step - loss: 0.0341 - accuracy: 1.0000\n",
      "Epoch 26/50\n",
      "1/1 [==============================] - 0s 4ms/step - loss: 0.0253 - accuracy: 1.0000\n",
      "Epoch 27/50\n",
      "1/1 [==============================] - 0s 2ms/step - loss: 0.0193 - accuracy: 1.0000\n",
      "Epoch 28/50\n",
      "1/1 [==============================] - 0s 3ms/step - loss: 0.0153 - accuracy: 1.0000\n",
      "Epoch 29/50\n",
      "1/1 [==============================] - 0s 2ms/step - loss: 0.0124 - accuracy: 1.0000\n",
      "Epoch 30/50\n",
      "1/1 [==============================] - 0s 2ms/step - loss: 0.0101 - accuracy: 1.0000\n",
      "Epoch 31/50\n",
      "1/1 [==============================] - 0s 3ms/step - loss: 0.0082 - accuracy: 1.0000\n",
      "Epoch 32/50\n",
      "1/1 [==============================] - 0s 4ms/step - loss: 0.0067 - accuracy: 1.0000\n",
      "Epoch 33/50\n",
      "1/1 [==============================] - 0s 3ms/step - loss: 0.0055 - accuracy: 1.0000\n",
      "Epoch 34/50\n",
      "1/1 [==============================] - 0s 2ms/step - loss: 0.0046 - accuracy: 1.0000\n",
      "Epoch 35/50\n",
      "1/1 [==============================] - 0s 2ms/step - loss: 0.0039 - accuracy: 1.0000\n",
      "Epoch 36/50\n",
      "1/1 [==============================] - 0s 2ms/step - loss: 0.0033 - accuracy: 1.0000\n",
      "Epoch 37/50\n",
      "1/1 [==============================] - 0s 6ms/step - loss: 0.0029 - accuracy: 1.0000\n",
      "Epoch 38/50\n",
      "1/1 [==============================] - 0s 3ms/step - loss: 0.0026 - accuracy: 1.0000\n",
      "Epoch 39/50\n",
      "1/1 [==============================] - 0s 3ms/step - loss: 0.0023 - accuracy: 1.0000\n",
      "Epoch 40/50\n",
      "1/1 [==============================] - 0s 4ms/step - loss: 0.0021 - accuracy: 1.0000\n",
      "Epoch 41/50\n",
      "1/1 [==============================] - 0s 9ms/step - loss: 0.0019 - accuracy: 1.0000\n",
      "Epoch 42/50\n",
      "1/1 [==============================] - 0s 3ms/step - loss: 0.0017 - accuracy: 1.0000\n",
      "Epoch 43/50\n",
      "1/1 [==============================] - 0s 2ms/step - loss: 0.0016 - accuracy: 1.0000\n",
      "Epoch 44/50\n",
      "1/1 [==============================] - 0s 2ms/step - loss: 0.0015 - accuracy: 1.0000\n",
      "Epoch 45/50\n",
      "1/1 [==============================] - 0s 2ms/step - loss: 0.0014 - accuracy: 1.0000\n",
      "Epoch 46/50\n",
      "1/1 [==============================] - 0s 997us/step - loss: 0.0013 - accuracy: 1.0000\n",
      "Epoch 47/50\n",
      "1/1 [==============================] - 0s 2ms/step - loss: 0.0012 - accuracy: 1.0000\n",
      "Epoch 48/50\n",
      "1/1 [==============================] - 0s 10ms/step - loss: 0.0012 - accuracy: 1.0000\n",
      "Epoch 49/50\n",
      "1/1 [==============================] - 0s 2ms/step - loss: 0.0011 - accuracy: 1.0000\n",
      "Epoch 50/50\n",
      "1/1 [==============================] - 0s 2ms/step - loss: 0.0010 - accuracy: 1.0000\n",
      "Model: \"sequential\"\n",
      "_________________________________________________________________\n",
      "Layer (type)                 Output Shape              Param #   \n",
      "=================================================================\n",
      "rnn (RNN)                    (None, 6, 5)              220       \n",
      "_________________________________________________________________\n",
      "time_distributed (TimeDistri (None, 6, 5)              30        \n",
      "=================================================================\n",
      "Total params: 250\n",
      "Trainable params: 250\n",
      "Non-trainable params: 0\n",
      "_________________________________________________________________\n",
      "[[3.5818484e-05 9.9970132e-01 1.2005192e-04 1.3217542e-04 1.0573595e-05]\n",
      " [9.9831885e-01 6.6953544e-05 1.7689758e-04 1.2103730e-03 2.2694959e-04]\n",
      " [2.0966145e-04 5.2627991e-04 9.9889249e-01 2.0686598e-04 1.6481677e-04]\n",
      " [1.0905754e-04 3.7721675e-05 2.4059073e-04 9.9961036e-01 2.2259937e-06]\n",
      " [4.9342478e-05 1.3582601e-04 2.6053799e-04 9.9932015e-01 2.3417344e-04]\n",
      " [1.2382014e-03 2.3880901e-05 6.4991829e-05 4.8632437e-04 9.9818653e-01]]\n",
      "\tPrediction str:  ihello\n"
     ]
    }
   ],
   "source": [
    "tf.model = tf.keras.Sequential()\n",
    "\n",
    "# make cell and add it to RNN layer\n",
    "# input_shape = (1,6,5) => number of sequence (batch), length of sequence, size of input dim\n",
    "cell = tf.keras.layers.LSTMCell(units=num_classes, input_shape=(sequence_length, input_dim))\n",
    "tf.model.add(tf.keras.layers.RNN(cell=cell, return_sequences=True))\n",
    "\n",
    "# single LSTM layer can be used as well instead of creating LSTMCell\n",
    "# tf.model.add(tf.keras.layers.LSTM(units=num_classes, input_shape=(sequence_length, input_dim), return_sequences=True))\n",
    "\n",
    "# fully connected layer\n",
    "tf.model.add(tf.keras.layers.TimeDistributed(tf.keras.layers.Dense(units=num_classes, activation='softmax')))\n",
    "\n",
    "tf.model.compile(loss='categorical_crossentropy', optimizer=tf.keras.optimizers.Adam(lr=learning_rate),\n",
    "                 metrics=['accuracy'])\n",
    "\n",
    "# train\n",
    "tf.model.fit(x_one_hot, y_one_hot, epochs=50)\n",
    "tf.model.summary()\n",
    "\n",
    "predictions = tf.model.predict(x_one_hot)\n",
    "for i, prediction in enumerate(predictions):\n",
    "    print(prediction)\n",
    "    # print char using argmax, dict\n",
    "    result_str = [idx2char[c] for c in np.argmax(prediction, axis=1)]\n",
    "    print(\"\\tPrediction str: \", ''.join(result_str))"
   ]
  },
  {
   "cell_type": "code",
   "execution_count": null,
   "id": "b58164ad",
   "metadata": {},
   "outputs": [],
   "source": []
  },
  {
   "cell_type": "code",
   "execution_count": null,
   "id": "25dad7e1",
   "metadata": {},
   "outputs": [],
   "source": []
  },
  {
   "cell_type": "code",
   "execution_count": null,
   "id": "9d41dad4",
   "metadata": {},
   "outputs": [],
   "source": []
  },
  {
   "cell_type": "code",
   "execution_count": null,
   "id": "ba7b7e10",
   "metadata": {},
   "outputs": [],
   "source": []
  },
  {
   "cell_type": "code",
   "execution_count": null,
   "id": "f8c11962",
   "metadata": {},
   "outputs": [],
   "source": []
  },
  {
   "cell_type": "code",
   "execution_count": null,
   "id": "68b1f1d4",
   "metadata": {},
   "outputs": [],
   "source": []
  }
 ],
 "metadata": {
  "kernelspec": {
   "display_name": "Python 3",
   "language": "python",
   "name": "python3"
  },
  "language_info": {
   "codemirror_mode": {
    "name": "ipython",
    "version": 3
   },
   "file_extension": ".py",
   "mimetype": "text/x-python",
   "name": "python",
   "nbconvert_exporter": "python",
   "pygments_lexer": "ipython3",
   "version": "3.8.8"
  }
 },
 "nbformat": 4,
 "nbformat_minor": 5
}
