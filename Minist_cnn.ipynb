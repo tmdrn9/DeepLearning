{
 "cells": [
  {
   "cell_type": "code",
   "execution_count": 1,
   "id": "ca9e9c91",
   "metadata": {},
   "outputs": [],
   "source": [
    "import numpy as np\n",
    "import tensorflow as tf\n",
    "import random"
   ]
  },
  {
   "cell_type": "code",
   "execution_count": 14,
   "id": "bbf97f98",
   "metadata": {},
   "outputs": [],
   "source": [
    "mnist = tf.keras.datasets.mnist"
   ]
  },
  {
   "cell_type": "code",
   "execution_count": 15,
   "id": "157fdacf",
   "metadata": {},
   "outputs": [],
   "source": [
    "(x_train, y_train), (x_test, y_test) = mnist.load_data()\n",
    "x_test = x_test / 255\n",
    "x_train = x_train / 255\n",
    "x_train = x_train.reshape(x_train.shape[0], 28, 28, 1)\n",
    "x_test = x_test.reshape(x_test.shape[0], 28, 28, 1)"
   ]
  },
  {
   "cell_type": "code",
   "execution_count": 16,
   "id": "7eebaf9c",
   "metadata": {},
   "outputs": [],
   "source": [
    "y_train = tf.keras.utils.to_categorical(y_train, 10)\n",
    "y_test = tf.keras.utils.to_categorical(y_test, 10)"
   ]
  },
  {
   "cell_type": "code",
   "execution_count": 17,
   "id": "4a3bf32f",
   "metadata": {},
   "outputs": [],
   "source": [
    "learning_rate = 0.001\n",
    "training_epochs = 12\n",
    "batch_size = 128"
   ]
  },
  {
   "cell_type": "code",
   "execution_count": 18,
   "id": "b809667d",
   "metadata": {},
   "outputs": [
    {
     "name": "stdout",
     "output_type": "stream",
     "text": [
      "Model: \"sequential_1\"\n",
      "_________________________________________________________________\n",
      "Layer (type)                 Output Shape              Param #   \n",
      "=================================================================\n",
      "conv2d_2 (Conv2D)            (None, 26, 26, 16)        160       \n",
      "_________________________________________________________________\n",
      "max_pooling2d_2 (MaxPooling2 (None, 13, 13, 16)        0         \n",
      "_________________________________________________________________\n",
      "conv2d_3 (Conv2D)            (None, 11, 11, 32)        4640      \n",
      "_________________________________________________________________\n",
      "max_pooling2d_3 (MaxPooling2 (None, 5, 5, 32)          0         \n",
      "_________________________________________________________________\n",
      "flatten_1 (Flatten)          (None, 800)               0         \n",
      "_________________________________________________________________\n",
      "dense_1 (Dense)              (None, 10)                8010      \n",
      "=================================================================\n",
      "Total params: 12,810\n",
      "Trainable params: 12,810\n",
      "Non-trainable params: 0\n",
      "_________________________________________________________________\n"
     ]
    }
   ],
   "source": [
    "tf.model = tf.keras.Sequential()\n",
    "# L1\n",
    "tf.model.add(tf.keras.layers.Conv2D(filters=16, kernel_size=(3, 3), input_shape=(28, 28, 1), activation='relu'))\n",
    "tf.model.add(tf.keras.layers.MaxPooling2D(pool_size=(2, 2)))\n",
    "\n",
    "# L2\n",
    "tf.model.add(tf.keras.layers.Conv2D(filters=32, kernel_size=(3, 3), activation='relu'))\n",
    "tf.model.add(tf.keras.layers.MaxPooling2D(pool_size=(2, 2)))\n",
    "\n",
    "# L3 fully connected\n",
    "tf.model.add(tf.keras.layers.Flatten()) ##값을 쭉 펼치는 함수\n",
    "tf.model.add(tf.keras.layers.Dense(units=10, kernel_initializer='glorot_normal', activation='softmax'))\n",
    "\n",
    "tf.model.compile(loss='categorical_crossentropy', optimizer=tf.keras.optimizers.Adam(lr=learning_rate), metrics=['accuracy'])\n",
    "tf.model.summary()"
   ]
  },
  {
   "cell_type": "code",
   "execution_count": 19,
   "id": "f7b4a958",
   "metadata": {},
   "outputs": [
    {
     "name": "stdout",
     "output_type": "stream",
     "text": [
      "Epoch 1/12\n",
      "469/469 [==============================] - 71s 152ms/step - loss: 0.3609 - accuracy: 0.9004\n",
      "Epoch 2/12\n",
      "469/469 [==============================] - 68s 144ms/step - loss: 0.0925 - accuracy: 0.9726\n",
      "Epoch 3/12\n",
      "469/469 [==============================] - 65s 139ms/step - loss: 0.0682 - accuracy: 0.9791\n",
      "Epoch 4/12\n",
      "469/469 [==============================] - 84s 180ms/step - loss: 0.0568 - accuracy: 0.9827\n",
      "Epoch 5/12\n",
      "469/469 [==============================] - 83s 177ms/step - loss: 0.0498 - accuracy: 0.9844\n",
      "Epoch 6/12\n",
      "469/469 [==============================] - 93s 197ms/step - loss: 0.0441 - accuracy: 0.9865\n",
      "Epoch 7/12\n",
      "469/469 [==============================] - 74s 159ms/step - loss: 0.0396 - accuracy: 0.9876\n",
      "Epoch 8/12\n",
      "469/469 [==============================] - 60s 128ms/step - loss: 0.0348 - accuracy: 0.9891\n",
      "Epoch 9/12\n",
      "469/469 [==============================] - 67s 142ms/step - loss: 0.0314 - accuracy: 0.9903\n",
      "Epoch 10/12\n",
      "469/469 [==============================] - 67s 142ms/step - loss: 0.0296 - accuracy: 0.9907\n",
      "Epoch 11/12\n",
      "469/469 [==============================] - 76s 162ms/step - loss: 0.0267 - accuracy: 0.9916\n",
      "Epoch 12/12\n",
      "469/469 [==============================] - 85s 182ms/step - loss: 0.0240 - accuracy: 0.9926s - loss: 0.0\n"
     ]
    },
    {
     "data": {
      "text/plain": [
       "<tensorflow.python.keras.callbacks.History at 0x19ee22cfb50>"
      ]
     },
     "execution_count": 19,
     "metadata": {},
     "output_type": "execute_result"
    }
   ],
   "source": [
    "tf.model.fit(x_train, y_train, batch_size=batch_size, epochs=training_epochs)"
   ]
  },
  {
   "cell_type": "code",
   "execution_count": 20,
   "id": "2fd942ed",
   "metadata": {},
   "outputs": [
    {
     "name": "stdout",
     "output_type": "stream",
     "text": [
      "index:  1365 actual y:  2 predicted y:  2\n",
      "index:  5388 actual y:  9 predicted y:  9\n",
      "index:  5706 actual y:  5 predicted y:  5\n",
      "index:  1962 actual y:  3 predicted y:  3\n",
      "index:  9554 actual y:  9 predicted y:  9\n",
      "index:  1899 actual y:  8 predicted y:  8\n",
      "index:  3973 actual y:  7 predicted y:  7\n",
      "index:  1302 actual y:  1 predicted y:  1\n",
      "index:  3523 actual y:  4 predicted y:  4\n",
      "index:  333 actual y:  5 predicted y:  5\n"
     ]
    }
   ],
   "source": [
    "y_predicted = tf.model.predict(x_test)\n",
    "for x in range(0, 10):\n",
    "    random_index = random.randint(0, x_test.shape[0]-1)\n",
    "    print(\"index: \", random_index,\n",
    "          \"actual y: \", np.argmax(y_test[random_index]),\n",
    "          \"predicted y: \", np.argmax(y_predicted[random_index]))"
   ]
  },
  {
   "cell_type": "code",
   "execution_count": 21,
   "id": "e5ec2599",
   "metadata": {},
   "outputs": [
    {
     "name": "stdout",
     "output_type": "stream",
     "text": [
      "313/313 [==============================] - 8s 25ms/step - loss: 0.0321 - accuracy: 0.9895 0s - loss: 0.0 - ETA: 0s - loss: 0.0304 - \n",
      "loss:  0.03210999816656113\n",
      "accuracy 0.9894999861717224\n"
     ]
    }
   ],
   "source": [
    "evaluation = tf.model.evaluate(x_test, y_test)\n",
    "print('loss: ', evaluation[0])\n",
    "print('accuracy', evaluation[1])"
   ]
  }
 ],
 "metadata": {
  "kernelspec": {
   "display_name": "Python 3",
   "language": "python",
   "name": "python3"
  },
  "language_info": {
   "codemirror_mode": {
    "name": "ipython",
    "version": 3
   },
   "file_extension": ".py",
   "mimetype": "text/x-python",
   "name": "python",
   "nbconvert_exporter": "python",
   "pygments_lexer": "ipython3",
   "version": "3.8.8"
  }
 },
 "nbformat": 4,
 "nbformat_minor": 5
}
