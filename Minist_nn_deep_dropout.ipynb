{
 "cells": [
  {
   "cell_type": "code",
   "execution_count": 13,
   "id": "45d74315",
   "metadata": {},
   "outputs": [],
   "source": [
    "import numpy as np\n",
    "import random\n",
    "import tensorflow as tf"
   ]
  },
  {
   "cell_type": "code",
   "execution_count": 29,
   "id": "d7bf2d1e",
   "metadata": {},
   "outputs": [],
   "source": [
    "random.seed(777)\n",
    "learning_rate = 0.001\n",
    "batch_size = 100\n",
    "training_epochs = 15\n",
    "nb_classes = 10\n",
    "drop_rate = 0.3"
   ]
  },
  {
   "cell_type": "code",
   "execution_count": 3,
   "id": "eec89f64",
   "metadata": {},
   "outputs": [],
   "source": [
    "mnist = tf.keras.datasets.mnist"
   ]
  },
  {
   "cell_type": "code",
   "execution_count": 4,
   "id": "0f027f7e",
   "metadata": {},
   "outputs": [
    {
     "name": "stdout",
     "output_type": "stream",
     "text": [
      "Downloading data from https://storage.googleapis.com/tensorflow/tf-keras-datasets/mnist.npz\n",
      "11493376/11490434 [==============================] - 1s 0us/step\n"
     ]
    }
   ],
   "source": [
    "(x_train, y_train), (x_test, y_test) = mnist.load_data()\n",
    "# normalizing data\n",
    "x_train, x_test = x_train / 255.0, x_test / 255.0"
   ]
  },
  {
   "cell_type": "code",
   "execution_count": 5,
   "id": "2bfa8787",
   "metadata": {},
   "outputs": [
    {
     "name": "stdout",
     "output_type": "stream",
     "text": [
      "(60000, 28, 28)\n"
     ]
    }
   ],
   "source": [
    "# change data shape\n",
    "print(x_train.shape)  # (60000, 28, 28)\n",
    "x_train = x_train.reshape(x_train.shape[0], x_train.shape[1] * x_train.shape[2])\n",
    "x_test = x_test.reshape(x_test.shape[0], x_test.shape[1] * x_test.shape[2])"
   ]
  },
  {
   "cell_type": "code",
   "execution_count": 6,
   "id": "d3225c16",
   "metadata": {},
   "outputs": [],
   "source": [
    "# change result to one-hot encoding\n",
    "# in tf1, one_hot= True in read_data_sets(\"MNIST_data/\", one_hot=True)\n",
    "# took care of it, but here we need to manually convert them\n",
    "y_train = tf.keras.utils.to_categorical(y_train, 10)\n",
    "y_test = tf.keras.utils.to_categorical(y_test, 10)"
   ]
  },
  {
   "cell_type": "code",
   "execution_count": 30,
   "id": "27bca71d",
   "metadata": {},
   "outputs": [
    {
     "name": "stdout",
     "output_type": "stream",
     "text": [
      "Model: \"sequential_5\"\n",
      "_________________________________________________________________\n",
      "Layer (type)                 Output Shape              Param #   \n",
      "=================================================================\n",
      "dense_15 (Dense)             (None, 512)               401920    \n",
      "_________________________________________________________________\n",
      "dropout (Dropout)            (None, 512)               0         \n",
      "_________________________________________________________________\n",
      "dense_16 (Dense)             (None, 512)               262656    \n",
      "_________________________________________________________________\n",
      "dropout_1 (Dropout)          (None, 512)               0         \n",
      "_________________________________________________________________\n",
      "dense_17 (Dense)             (None, 512)               262656    \n",
      "_________________________________________________________________\n",
      "dropout_2 (Dropout)          (None, 512)               0         \n",
      "_________________________________________________________________\n",
      "dense_18 (Dense)             (None, 512)               262656    \n",
      "_________________________________________________________________\n",
      "dropout_3 (Dropout)          (None, 512)               0         \n",
      "_________________________________________________________________\n",
      "dense_19 (Dense)             (None, 10)                5130      \n",
      "=================================================================\n",
      "Total params: 1,195,018\n",
      "Trainable params: 1,195,018\n",
      "Non-trainable params: 0\n",
      "_________________________________________________________________\n"
     ]
    }
   ],
   "source": [
    "# # Consider an array of 5 labels out of a set of 3 classes {0, 1, 2}:\n",
    "# array([0, 2, 1, 2, 0])\n",
    "# `to_categorical` converts this into a matrix with as many columns as there are classes. The number of rows\n",
    "#  stays the same. to_categorical(labels)\n",
    "# array([[ 1.,  0.,  0.],\n",
    "#        [ 0.,  0.,  1.],\n",
    "#        [ 0.,  1.,  0.],\n",
    "#        [ 0.,  0.,  1.],\n",
    "#        [ 1.,  0.,  0.]], dtype=float32)\n",
    "\n",
    "tf.model = tf.keras.Sequential()\n",
    "tf.model.add(tf.keras.layers.Dense(units=512, input_dim=784, kernel_initializer='glorot_normal',activation='relu'))\n",
    "tf.model.add(tf.keras.layers.Dropout(drop_rate))\n",
    "tf.model.add(tf.keras.layers.Dense(units=512, kernel_initializer='glorot_normal',activation='relu'))\n",
    "tf.model.add(tf.keras.layers.Dropout(drop_rate))\n",
    "tf.model.add(tf.keras.layers.Dense(units=512, kernel_initializer='glorot_normal',activation='relu'))\n",
    "tf.model.add(tf.keras.layers.Dropout(drop_rate))\n",
    "tf.model.add(tf.keras.layers.Dense(units=512, kernel_initializer='glorot_normal',activation='relu'))\n",
    "tf.model.add(tf.keras.layers.Dropout(drop_rate))\n",
    "tf.model.add(tf.keras.layers.Dense(units=nb_classes, kernel_initializer='glorot_normal', activation='softmax'))\n",
    "tf.model.compile(loss='categorical_crossentropy', optimizer=tf.optimizers.Adam(learning_rate), metrics=['accuracy'])\n",
    "tf.model.summary()"
   ]
  },
  {
   "cell_type": "code",
   "execution_count": 31,
   "id": "fe7ab4f8",
   "metadata": {},
   "outputs": [
    {
     "name": "stdout",
     "output_type": "stream",
     "text": [
      "Epoch 1/15\n",
      "600/600 [==============================] - 72s 121ms/step - loss: 0.3160 - accuracy: 0.9023\n",
      "Epoch 2/15\n",
      "600/600 [==============================] - 70s 117ms/step - loss: 0.1451 - accuracy: 0.9579\n",
      "Epoch 3/15\n",
      "600/600 [==============================] - 71s 118ms/step - loss: 0.1115 - accuracy: 0.9675\n",
      "Epoch 4/15\n",
      "600/600 [==============================] - 68s 114ms/step - loss: 0.0948 - accuracy: 0.9724\n",
      "Epoch 5/15\n",
      "600/600 [==============================] - 69s 115ms/step - loss: 0.0841 - accuracy: 0.9757\n",
      "Epoch 6/15\n",
      "600/600 [==============================] - 70s 116ms/step - loss: 0.0756 - accuracy: 0.9775\n",
      "Epoch 7/15\n",
      "600/600 [==============================] - 68s 113ms/step - loss: 0.0703 - accuracy: 0.9795\n",
      "Epoch 8/15\n",
      "600/600 [==============================] - 71s 119ms/step - loss: 0.0611 - accuracy: 0.9816\n",
      "Epoch 9/15\n",
      "600/600 [==============================] - 72s 120ms/step - loss: 0.0585 - accuracy: 0.9826\n",
      "Epoch 10/15\n",
      "600/600 [==============================] - 75s 125ms/step - loss: 0.0559 - accuracy: 0.9833\n",
      "Epoch 11/15\n",
      "600/600 [==============================] - 72s 119ms/step - loss: 0.0530 - accuracy: 0.9840\n",
      "Epoch 12/15\n",
      "600/600 [==============================] - 70s 117ms/step - loss: 0.0512 - accuracy: 0.9852\n",
      "Epoch 13/15\n",
      "600/600 [==============================] - 79s 132ms/step - loss: 0.0477 - accuracy: 0.9862\n",
      "Epoch 14/15\n",
      "600/600 [==============================] - 75s 125ms/step - loss: 0.0471 - accuracy: 0.9864\n",
      "Epoch 15/15\n",
      "600/600 [==============================] - 68s 114ms/step - loss: 0.0429 - accuracy: 0.9872\n"
     ]
    }
   ],
   "source": [
    "history = tf.model.fit(x_train, y_train, batch_size=batch_size, epochs=training_epochs)"
   ]
  },
  {
   "cell_type": "code",
   "execution_count": 32,
   "id": "b9de3686",
   "metadata": {},
   "outputs": [
    {
     "name": "stdout",
     "output_type": "stream",
     "text": [
      "index:  3757 actual y:  8 predicted y:  8\n",
      "index:  7304 actual y:  5 predicted y:  5\n",
      "index:  7300 actual y:  7 predicted y:  7\n",
      "index:  6039 actual y:  9 predicted y:  9\n",
      "index:  9429 actual y:  3 predicted y:  3\n",
      "index:  4420 actual y:  5 predicted y:  5\n",
      "index:  5507 actual y:  2 predicted y:  2\n",
      "index:  8809 actual y:  1 predicted y:  1\n",
      "index:  654 actual y:  5 predicted y:  5\n",
      "index:  7302 actual y:  8 predicted y:  8\n"
     ]
    }
   ],
   "source": [
    "# predict 10 random hand-writing data\n",
    "y_predicted = tf.model.predict(x_test)\n",
    "for x in range(0, 10):\n",
    "    random_index = random.randint(0, x_test.shape[0]-1) ##인자로 들어온 a, b 사이의 랜덤한 정수(int)를 반환\n",
    "    print(\"index: \", random_index,\n",
    "          \"actual y: \", np.argmax(y_test[random_index]),\n",
    "          \"predicted y: \", np.argmax(y_predicted[random_index]))"
   ]
  },
  {
   "cell_type": "code",
   "execution_count": 33,
   "id": "fba294c1",
   "metadata": {},
   "outputs": [
    {
     "name": "stdout",
     "output_type": "stream",
     "text": [
      "313/313 [==============================] - 6s 19ms/step - loss: 0.0827 - accuracy: 0.9815\n",
      "loss:  0.08274106681346893\n",
      "accuracy 0.9815000295639038\n"
     ]
    }
   ],
   "source": [
    "# evaluate test set\n",
    "evaluation = tf.model.evaluate(x_test, y_test)\n",
    "print('loss: ', evaluation[0])\n",
    "print('accuracy', evaluation[1])"
   ]
  }
 ],
 "metadata": {
  "kernelspec": {
   "display_name": "Python 3",
   "language": "python",
   "name": "python3"
  },
  "language_info": {
   "codemirror_mode": {
    "name": "ipython",
    "version": 3
   },
   "file_extension": ".py",
   "mimetype": "text/x-python",
   "name": "python",
   "nbconvert_exporter": "python",
   "pygments_lexer": "ipython3",
   "version": "3.8.8"
  }
 },
 "nbformat": 4,
 "nbformat_minor": 5
}
